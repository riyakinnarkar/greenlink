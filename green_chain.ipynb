{
  "nbformat": 4,
  "nbformat_minor": 0,
  "metadata": {
    "colab": {
      "provenance": [],
      "authorship_tag": "ABX9TyNJWVbswBGoeGdbXGPF6nhf",
      "include_colab_link": true
    },
    "kernelspec": {
      "name": "python3",
      "display_name": "Python 3"
    },
    "language_info": {
      "name": "python"
    }
  },
  "cells": [
    {
      "cell_type": "markdown",
      "metadata": {
        "id": "view-in-github",
        "colab_type": "text"
      },
      "source": [
        "<a href=\"https://colab.research.google.com/github/riyakinnarkar/greenlink/blob/main/green_chain.ipynb\" target=\"_parent\"><img src=\"https://colab.research.google.com/assets/colab-badge.svg\" alt=\"Open In Colab\"/></a>"
      ]
    },
    {
      "cell_type": "code",
      "source": [
        "# Install PuLP\n",
        "!pip install pulp --quiet\n",
        "from pulp import *\n",
        "import matplotlib.pyplot as plt\n",
        "\n",
        "# ======= DEMO DATA =======\n",
        "use_demo = input(\"Use demo dataset? (yes/no): \").lower()\n",
        "if use_demo == \"yes\":\n",
        "    # Demo dataset for a coffee shop\n",
        "    costs = [5, 6, 4.5]\n",
        "    emissions = [2, 1.8, 2.5]\n",
        "    capacities = [100, 80, 120]\n",
        "    demand = 150\n",
        "    budget = 700\n",
        "    num_suppliers = len(costs)\n",
        "else:\n",
        "    # Ask how many suppliers\n",
        "    num_suppliers = int(input(\"How many suppliers do you have? \"))\n",
        "\n",
        "    costs = []\n",
        "    emissions = []\n",
        "    capacities = []\n",
        "\n",
        "    for i in range(num_suppliers):\n",
        "        print(f\"\\nSupplier {i+1}:\")\n",
        "        cost = float(input(\"  Cost per unit ($): \"))\n",
        "        emission = float(input(\"  Emissions per unit (kg CO2): \"))\n",
        "        cap = float(input(\"  Maximum capacity (units): \"))\n",
        "        costs.append(cost)\n",
        "        emissions.append(emission)\n",
        "        capacities.append(cap)\n",
        "\n",
        "    # Ask for total demand & budget\n",
        "    demand = float(input(\"\\nEnter your total demand (units): \"))\n",
        "    budget = float(input(\"Enter your total budget ($): \"))\n",
        "\n",
        "# ======= BUILD LP MODEL =======\n",
        "model = LpProblem(\"SustainableSupplyChain\", LpMinimize)\n",
        "\n",
        "# Decision variables\n",
        "x = [LpVariable(f\"x{i}\", lowBound=0) for i in range(num_suppliers)]\n",
        "\n",
        "# Multi-objective: weighted emissions + cost\n",
        "weight_emissions = 0.7\n",
        "weight_cost = 0.3\n",
        "model += lpSum([weight_emissions*emissions[i]*x[i] + weight_cost*costs[i]*x[i]\n",
        "                for i in range(num_suppliers)]), \"WeightedObjective\"\n",
        "\n",
        "# Constraints\n",
        "model += lpSum([x[i] for i in range(num_suppliers)]) == demand, \"Demand\"\n",
        "model += lpSum([costs[i]*x[i] for i in range(num_suppliers)]) <= budget, \"Budget\"\n",
        "for i in range(num_suppliers):\n",
        "    model += x[i] <= capacities[i], f\"Capacity_{i}\"\n",
        "\n",
        "# ======= SCENARIO ANALYSIS =======\n",
        "scenarios = {\n",
        "    \"Normal\": (demand, budget, capacities),\n",
        "    \"Budget cut\": (demand, budget*0.8, capacities),\n",
        "    \"Supplier 2 down\": (demand, budget, [capacities[0], 0, capacities[2]] if num_suppliers >=3 else capacities),\n",
        "}\n",
        "\n",
        "for name, (d, b, caps) in scenarios.items():\n",
        "    # Update constraints\n",
        "    for i in range(num_suppliers):\n",
        "        model.constraints[f\"Capacity_{i}\"].changeRHS(caps[i])\n",
        "    model.constraints[\"Demand\"].changeRHS(d)\n",
        "    model.constraints[\"Budget\"].changeRHS(b)\n",
        "\n",
        "    # Solve\n",
        "    model.solve()\n",
        "\n",
        "    # Show results\n",
        "    print(f\"\\n===== Scenario: {name} =====\")\n",
        "    for i in range(num_suppliers):\n",
        "        print(f\" Supplier {i+1}: {x[i].varValue:.2f} units\")\n",
        "    print(\"Total weighted objective (emissions+cost):\", value(model.objective))\n",
        "\n",
        "    # Plot emissions per supplier\n",
        "    emissions_per_supplier = [emissions[i]*x[i].varValue for i in range(num_suppliers)]\n",
        "    plt.bar([f\"Supplier {i+1}\" for i in range(num_suppliers)], emissions_per_supplier)\n",
        "    plt.ylabel(\"Emissions (kg CO2)\")\n",
        "    plt.title(f\"Emissions per Supplier - {name}\")\n",
        "    plt.show()\n"
      ],
      "metadata": {
        "id": "h44gledaXJ9n"
      },
      "execution_count": null,
      "outputs": []
    }
  ]
}